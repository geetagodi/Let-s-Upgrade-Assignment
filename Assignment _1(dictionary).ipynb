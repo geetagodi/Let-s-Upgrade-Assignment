{
 "cells": [
  {
   "cell_type": "code",
   "execution_count": null,
   "metadata": {},
   "outputs": [],
   "source": [
    "# Assignment 1 date: 27/05/21"
   ]
  },
  {
   "cell_type": "code",
   "execution_count": 3,
   "metadata": {},
   "outputs": [],
   "source": [
    "Name = ['meet', 'mohan', 'geeta','ashwin']\n",
    "Company = ['JPMC', 'PWC','AON','BOA']"
   ]
  },
  {
   "cell_type": "code",
   "execution_count": 2,
   "metadata": {},
   "outputs": [
    {
     "name": "stdout",
     "output_type": "stream",
     "text": [
      "{'meet': 'JPMC', 'mohan': 'PWC', 'geeta': 'AON', 'ashwin': 'BOA'}\n"
     ]
    }
   ],
   "source": [
    "Name = ['meet', 'mohan', 'geeta','ashwin']\n",
    "Company = ['JPMC', 'PWC','AON','BOA']\n",
    "\n",
    "my_dict = {} \n",
    "for key in Name: \n",
    "    for value in Company: \n",
    "        my_dict[key] = value \n",
    "        Company.remove(value) \n",
    "        break  \n",
    "print(my_dict)"
   ]
  },
  {
   "cell_type": "code",
   "execution_count": null,
   "metadata": {},
   "outputs": [],
   "source": []
  }
 ],
 "metadata": {
  "kernelspec": {
   "display_name": "Python 3",
   "language": "python",
   "name": "python3"
  },
  "language_info": {
   "codemirror_mode": {
    "name": "ipython",
    "version": 3
   },
   "file_extension": ".py",
   "mimetype": "text/x-python",
   "name": "python",
   "nbconvert_exporter": "python",
   "pygments_lexer": "ipython3",
   "version": "3.8.5"
  }
 },
 "nbformat": 4,
 "nbformat_minor": 4
}
