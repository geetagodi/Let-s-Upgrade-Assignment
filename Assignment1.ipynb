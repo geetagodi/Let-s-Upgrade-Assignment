{
  "nbformat": 4,
  "nbformat_minor": 0,
  "metadata": {
    "colab": {
      "name": "Assignment1.ipynb",
      "provenance": [],
      "collapsed_sections": [],
      "toc_visible": true
    },
    "kernelspec": {
      "name": "python3",
      "display_name": "Python 3"
    },
    "language_info": {
      "name": "python"
    }
  },
  "cells": [
    {
      "cell_type": "code",
      "metadata": {
        "colab": {
          "base_uri": "https://localhost:8080/"
        },
        "id": "xkcty0sNEzcq",
        "outputId": "61175a4f-2449-4737-a244-607485d5e4d4"
      },
      "source": [
        "# reverse list without using [::-1], reverse method\n",
        "\n",
        "class reverse():\n",
        "  def __init__(self,list1):\n",
        "    self.list1 = list1\n",
        "  \n",
        "  def reverse_list(self):\n",
        "    i = len(self.list1) -1\n",
        "    while i >= 0 :\n",
        "        #print(self.list1[i]) \n",
        "        i -= 1\n",
        "    return self.list1\n",
        "num_list =[2,3,4,5]\n",
        "rev = reverse(num_list)\n",
        "rev_list = rev.reverse_list()\n",
        "print(f\"input : {num_list}\\nreversed list is: {rev_list}\")"
      ],
      "execution_count": null,
      "outputs": [
        {
          "output_type": "stream",
          "text": [
            "input : [2, 3, 4, 5]\n",
            "reversed list is: [2, 3, 4, 5]\n"
          ],
          "name": "stdout"
        }
      ]
    },
    {
      "cell_type": "code",
      "metadata": {
        "id": "gingRfb0qBTC"
      },
      "source": [
        "class calc():\n",
        "\n",
        "  def __init__(self,n1,n2):\n",
        "    self.n1 = n1\n",
        "    self.n2 = n2\n",
        "  def add(self):\n",
        "    return self.n1+self.n2\n",
        "  def sub(self):\n",
        "    return self.n1-self.n2\n",
        "  def multiply(self):\n",
        "    return self.n1*self.n2\n",
        "\n",
        "add_2num = calc(2,3).add()\n",
        "sub_2num = calc(5,2).sub()\n",
        "mul_2num = calc(2,3).multiply()\n",
        "print(f\" addition of two num is: {add_2num}\\n subtraction of two num is: {sub_2num}\\n multiplication of two num is: {mul_2num}\\n\")"
      ],
      "execution_count": null,
      "outputs": []
    },
    {
      "cell_type": "markdown",
      "metadata": {
        "id": "9gYnsIsBqNl4"
      },
      "source": [
        "# New Section"
      ]
    },
    {
      "cell_type": "code",
      "metadata": {
        "colab": {
          "base_uri": "https://localhost:8080/"
        },
        "id": "PCXBIjblM3fQ",
        "outputId": "499dd3a9-358e-4216-efa0-c5974a6fe2dc"
      },
      "source": [
        "# pgm which accepts [1,2,3,\"4\",\"67\",\"56\",\"123\",\"not an int\", \"Definitely not an int\"] as input \\\n",
        "# and produces [1, 2, 3, 4, 67, 56, 123] output.\n",
        "\n",
        "class int_list():\n",
        "  def __init__(self,test_list):\n",
        "    self.test_list = test_list\n",
        "  def extract_nums(self):\n",
        "    num_list =[]\n",
        "    for  x in range(0,len(self.test_list)):\n",
        "      if str(self.test_list[x]).isdigit():\n",
        "        num_list.append(int(self.test_list[x]))\n",
        "    #num_list = [x for x in self.test_list if isinstance(x, int)]\n",
        "    return num_list\n",
        "\n",
        "list1 = [1,2,3,\"4\",\"67\",\"56\",\"123\",\"not an int\", \"Definitely not an int\"]\n",
        "p = int_list(list1)\n",
        "integer_list = p.extract_nums()\n",
        "print(integer_list)"
      ],
      "execution_count": null,
      "outputs": [
        {
          "output_type": "stream",
          "text": [
            "[1, 2, 3, 4, 67, 56, 123]\n"
          ],
          "name": "stdout"
        }
      ]
    },
    {
      "cell_type": "code",
      "metadata": {
        "colab": {
          "base_uri": "https://localhost:8080/"
        },
        "id": "cGu682CCiT75",
        "outputId": "8691348c-f87f-4d9c-c370-dc49510ae9e1"
      },
      "source": [
        "#A class which accepts list of fruits and returns all the fruits which starts with a vowel\n",
        "class fruits():\n",
        "  def __init__(self,fruits):\n",
        "    self.fruits = fruits\n",
        "  def fruit_vowel(self):\n",
        "    fruit_list =[]\n",
        "    vowel = 'a','e','i','o','u','A','E','I','O','U'\n",
        "    return[x for x in self.fruits if x.startswith(vowel)]\n",
        "\n",
        "test_list=['apple','guava','orange','kiwi','cherry']\n",
        "f= fruits(test_list)\n",
        "output = f.fruit_vowel()\n",
        "print(output)"
      ],
      "execution_count": null,
      "outputs": [
        {
          "output_type": "stream",
          "text": [
            "['apple', 'orange']\n"
          ],
          "name": "stdout"
        }
      ]
    },
    {
      "cell_type": "code",
      "metadata": {
        "id": "WA4RzQUXpwH5"
      },
      "source": [
        ""
      ],
      "execution_count": null,
      "outputs": []
    }
  ]
}