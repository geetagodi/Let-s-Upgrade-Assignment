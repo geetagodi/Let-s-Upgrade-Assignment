{
  "nbformat": 4,
  "nbformat_minor": 0,
  "metadata": {
    "colab": {
      "name": "Dict_Intro.ipynb",
      "provenance": [],
      "authorship_tag": "ABX9TyOn3tMhcrZHAbWwluRVliJf",
      "include_colab_link": true
    },
    "kernelspec": {
      "name": "python3",
      "display_name": "Python 3"
    },
    "language_info": {
      "name": "python"
    }
  },
  "cells": [
    {
      "cell_type": "markdown",
      "metadata": {
        "id": "view-in-github",
        "colab_type": "text"
      },
      "source": [
        "<a href=\"https://colab.research.google.com/github/geetagodi/Let-s-Upgrade-Assignment/blob/main/Dict_Intro.ipynb\" target=\"_parent\"><img src=\"https://colab.research.google.com/assets/colab-badge.svg\" alt=\"Open In Colab\"/></a>"
      ]
    },
    {
      "cell_type": "markdown",
      "metadata": {
        "id": "Q-P1RM9er6ar"
      },
      "source": [
        "Introduction to **Dictionaries**"
      ]
    },
    {
      "cell_type": "code",
      "metadata": {
        "id": "pUCdWfYEr_wc"
      },
      "source": [
        ""
      ],
      "execution_count": null,
      "outputs": []
    },
    {
      "cell_type": "markdown",
      "metadata": {
        "id": "wgLXkkEbsb1P"
      },
      "source": [
        "Dict are mutable\n",
        "pair of key and values\n",
        "{}"
      ]
    },
    {
      "cell_type": "code",
      "metadata": {
        "colab": {
          "base_uri": "https://localhost:8080/"
        },
        "id": "Ml4ifIQasnWH",
        "outputId": "999b7e23-211f-44df-bdf7-2a6291ec8cd8"
      },
      "source": [
        "employee ={'name':'jack', 'age':20, 'dept': 'sales'}\n",
        "print(employee)"
      ],
      "execution_count": 4,
      "outputs": [
        {
          "output_type": "stream",
          "text": [
            "{'name': 'jack', 'age': 20, 'dept': 'sales'}\n"
          ],
          "name": "stdout"
        }
      ]
    },
    {
      "cell_type": "code",
      "metadata": {
        "colab": {
          "base_uri": "https://localhost:8080/"
        },
        "id": "qHVR8eHhtkSZ",
        "outputId": "283cc21a-5e49-4d58-9b10-a764eaf6496d"
      },
      "source": [
        "my_dict =dict(name=\"Merry\", age = 22, city= 'Gadag')\n",
        "print(my_dict)"
      ],
      "execution_count": 7,
      "outputs": [
        {
          "output_type": "stream",
          "text": [
            "{'name': 'Merry', 'age': 22, 'city': 'Gadag'}\n"
          ],
          "name": "stdout"
        }
      ]
    },
    {
      "cell_type": "code",
      "metadata": {
        "colab": {
          "base_uri": "https://localhost:8080/"
        },
        "id": "7QPxVYTruKeY",
        "outputId": "974ed65a-39dc-46ce-d70d-a15948764681"
      },
      "source": [
        "movie = {\"Title\" : \"Radhe\",\n",
        "         \"Director\":\"xyz\",\n",
        "         \"year\": 2021,\n",
        "         \"Rating\": 3.5}\n",
        "print(movie['year'])\n",
        "print(movie[\"Rating\"])"
      ],
      "execution_count": 12,
      "outputs": [
        {
          "output_type": "stream",
          "text": [
            "2021\n",
            "3.5\n"
          ],
          "name": "stdout"
        }
      ]
    },
    {
      "cell_type": "code",
      "metadata": {
        "colab": {
          "base_uri": "https://localhost:8080/"
        },
        "id": "eb4fK1QwwvhY",
        "outputId": "ec577089-7985-4e4e-efcc-fb554751f00d"
      },
      "source": [
        "student ={}\n",
        "student['Name'] = \"Shaheen\"\n",
        "student['USN'] = 678\n",
        "student[\"dept\"] =\"EC\"\n",
        "print(student)"
      ],
      "execution_count": 14,
      "outputs": [
        {
          "output_type": "stream",
          "text": [
            "{'Name': 'Shaheen', 'USN': 678, 'dept': 'EC'}\n"
          ],
          "name": "stdout"
        }
      ]
    },
    {
      "cell_type": "code",
      "metadata": {
        "colab": {
          "base_uri": "https://localhost:8080/"
        },
        "id": "aNprNM4GxvFm",
        "outputId": "4d273e37-41c2-4759-cf41-16fd4a91b2f7"
      },
      "source": [
        "student[\"Name\"] =['Mujeeb','Titus','Elizbeth','Bhagya']\n",
        "print(student)"
      ],
      "execution_count": 16,
      "outputs": [
        {
          "output_type": "stream",
          "text": [
            "{'Name': ['Mujeeb', 'Titus', 'Elizbeth', 'Bhagya'], 'USN': 678, 'dept': 'EC', 'name': ['Mujeeb', 'Titus', 'Elizbeth', 'Bhagya']}\n"
          ],
          "name": "stdout"
        }
      ]
    },
    {
      "cell_type": "code",
      "metadata": {
        "colab": {
          "base_uri": "https://localhost:8080/"
        },
        "id": "_KfMF42DyUtS",
        "outputId": "a779932e-daba-40e4-edc8-6e5e4d305b34"
      },
      "source": [
        "word = 'rural'\n",
        "d = dict()\n",
        "for i in word:\n",
        "  if i not in d:\n",
        "    d[i]= 1\n",
        "  else:\n",
        "    d[i] = d[i]+1\n",
        "print(d)"
      ],
      "execution_count": 20,
      "outputs": [
        {
          "output_type": "stream",
          "text": [
            "{'r': 2, 'u': 1, 'a': 1, 'l': 1}\n"
          ],
          "name": "stdout"
        }
      ]
    },
    {
      "cell_type": "code",
      "metadata": {
        "id": "HNSqpSkLxvIw"
      },
      "source": [
        ""
      ],
      "execution_count": null,
      "outputs": []
    }
  ]
}